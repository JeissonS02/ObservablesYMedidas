{
 "cells": [
  {
   "cell_type": "markdown",
   "id": "8022391d-4026-493b-9fbb-632bb3d1990b",
   "metadata": {},
   "source": [
    "# TEORÍA CUÁNTICA BÁSICA, OBSERVABLES Y MEDIDAS"
   ]
  },
  {
   "cell_type": "markdown",
   "id": "b0deef82-bbac-4c05-8a4a-b52cb23891a7",
   "metadata": {},
   "source": [
    "## Jeisson David Sanchez Gomez\n"
   ]
  },
  {
   "cell_type": "markdown",
   "id": "eca75375-e015-46c0-82af-054c93cc9cd0",
   "metadata": {},
   "source": [
    "### SIMULE EL PRIMER SISTEMA CUÁNTICO DESCRITO EN LA SECCIÓN 4.1\n",
    "#### El sistema consiste en una partícula confinada a un conjunto discreto de posiciones en una línea. El simulador debe permitir especificar el número de posiciones y un vector ket de estado asignando las amplitudes.\n",
    "\n",
    "\n"
   ]
  },
  {
   "cell_type": "markdown",
   "id": "024839a4-2411-46c3-8856-b435dd884062",
   "metadata": {},
   "source": [
    "####  1. El sistema debe calcular la probabilidad de encontrarlo en una posición en particular."
   ]
  },
  {
   "cell_type": "code",
   "execution_count": 13,
   "id": "fca4a1c6-409b-48d1-a33f-5cfbb82566b2",
   "metadata": {},
   "outputs": [],
   "source": [
    "import numpy as np\n",
    "import math\n",
    "\n",
    "def probpos(v,p):\n",
    "    nor = 0\n",
    "    for i in range(len(v)):\n",
    "        n = abs(v[i])**2\n",
    "        nor = nor + n\n",
    "    c = abs(v[p])**2\n",
    "    valf = abs(c/nor)\n",
    "    return valf "
   ]
  },
  {
   "cell_type": "markdown",
   "id": "0108c9bd-335b-4c7a-921c-380126a574cd",
   "metadata": {},
   "source": [
    "##### 2. El sistema si se le da otro vector Ket debe buscar la probabilidad de transitar del primer vector al segundo.\n"
   ]
  },
  {
   "cell_type": "markdown",
   "id": "765d210d-1c4c-4627-85c1-cc754fd55bb7",
   "metadata": {},
   "source": []
  },
  {
   "cell_type": "markdown",
   "id": "e347dda9-d3f4-4181-af7a-338499e5ff0b",
   "metadata": {},
   "source": [
    "## COMPLETE LOS RETOS DE PROGRAMACIÓN DEL CAPÍTULO 4."
   ]
  },
  {
   "cell_type": "markdown",
   "id": "21d9ff24-9845-43bb-bbfc-29851743c7c0",
   "metadata": {},
   "source": [
    " #### 1. Amplitud de transición. El sistema puede recibir dos vectores y calcular la probabilidad de transitar de el uno al otro después de hacer la observación"
   ]
  },
  {
   "cell_type": "code",
   "execution_count": 16,
   "id": "d772f13c-31dd-4d44-b50a-4f1f2953dc79",
   "metadata": {},
   "outputs": [],
   "source": [
    "def Amplitud_Transicion(p1, p2):\n",
    "    amplitud = np.dot(np.conj(p2), p1)\n",
    "    return amplitud\n"
   ]
  },
  {
   "cell_type": "markdown",
   "id": "5cc95365-7d48-4c2b-89d3-b6ed511a4f06",
   "metadata": {},
   "source": [
    "#### 2. Ahora con una matriz que describa un observable y un vector ket, el sistema revisa que la matriz sea hermitiana, y si lo es, calcula la media y la varianza del observable en el estado dado."
   ]
  },
  {
   "cell_type": "code",
   "execution_count": 20,
   "id": "21e9d34c-f289-4892-a396-60b2418a41af",
   "metadata": {},
   "outputs": [],
   "source": [
    "def MediaYVarianza(observable, ket):\n",
    "\n",
    "    x = np.dot(np.conj(p2), p1)\n",
    "    if not x:\n",
    "        return \"La matriz no es hermitiana\"\n",
    "        \n",
    "    media = np.dot(np.conj(ket).T, np.dot(observable, ket)).real\n",
    "    \n",
    "    varianza = np.dot(np.conj(ket).T, np.dot(observable**2, ket)).real - media**2\n",
    "\n",
    "    return media, varianza\n"
   ]
  },
  {
   "cell_type": "markdown",
   "id": "86d2ecd9-c419-4e9d-a02c-6dd3a65adf2f",
   "metadata": {},
   "source": [
    "#### 3. El sistema calcula los valores propios del observable y la probabilidad de que el sistema transite a alguno de los vectores propios después de la observación."
   ]
  },
  {
   "cell_type": "code",
   "execution_count": null,
   "id": "79fa18b8-ddf3-4ae0-90e9-d74444d0163a",
   "metadata": {},
   "outputs": [],
   "source": [
    "def probabilidad_observacion(observable):\n",
    "    \n",
    "    if not np.allclose(observable, np.conj(observable).T):\n",
    "        return \"La matriz no es hermitiana\"\n",
    "\n",
    "    valoresp, vectoresp = np.linalg.eig(observable)\n",
    "\n",
    "    probabilidad = np.abs(np.dot(np.conj(vectoresp).T, np.array([1, 0])))**2\n",
    "\n",
    "    return valoresp, vectoresp, probabilidad"
   ]
  },
  {
   "cell_type": "markdown",
   "id": "94c02f85-f06d-4915-912a-5228f9b21d21",
   "metadata": {},
   "source": [
    "#### 4. Se considera la dinámica del sistema. Ahora con una serie de matrices Un el sistema calcula el estado final a partir de un estado inicial."
   ]
  },
  {
   "cell_type": "code",
   "execution_count": 23,
   "id": "9d0fe9f2-c170-4625-94aa-a3da41e52f4d",
   "metadata": {},
   "outputs": [],
   "source": [
    "def estadof(estadoi, U):\n",
    "    estadof = estadoi\n",
    "    for i in range(len(U)):\n",
    "        estadof = np.dot(U[i], estadof)\n",
    "    return estadof"
   ]
  },
  {
   "cell_type": "markdown",
   "id": "30dd09f6-f60c-43f7-aee2-4c0dcd835568",
   "metadata": {},
   "source": [
    "## REALICE LOS SIGUIENTES PROBLEMAS E INCLUYALOS COMO EJEMPLOS"
   ]
  },
  {
   "cell_type": "markdown",
   "id": "6d8770cd-f6b1-42ba-a40e-f3ff04f747f3",
   "metadata": {},
   "source": [
    "### Modele en su librería los problemas\n",
    "### 4.3.1\n",
    "### 4.3.2\n",
    "### 4.4.1\n",
    "### 4.4.2\n",
    "### Desarrolle e incluya en el Github una discusión de los ejercicios 4.5.2 y 4.5.3"
   ]
  },
  {
   "cell_type": "markdown",
   "id": "b0b41090-a1fd-4fa1-b1b1-9020057c6293",
   "metadata": {},
   "source": [
    "#### Solucion 4.3.1"
   ]
  },
  {
   "cell_type": "code",
   "execution_count": 26,
   "id": "80f50d9f-ec3d-4c72-8625-255dd6f89c85",
   "metadata": {},
   "outputs": [
    {
     "name": "stdout",
     "output_type": "stream",
     "text": [
      "Estado Final [0.70710678 0.70710678]\n",
      "Probabilidad de obtener 0 0.4999999999999999\n",
      "Probabilidad de obtener 1 0.4999999999999999\n"
     ]
    }
   ],
   "source": [
    "#4.3.1: Simular la operación de la compuerta de Hadamard \n",
    "# en un qubit en el estado |0>.\n",
    "\n",
    "# Estado inicial\n",
    "estadoi = np.array([1, 0])\n",
    "\n",
    "# Matriz de Hadamard\n",
    "H = np.array([[1/np.sqrt(2), 1/np.sqrt(2)],\n",
    "              [1/np.sqrt(2), -1/np.sqrt(2)]])\n",
    "\n",
    "# Aplicar la compuerta de Hadamard\n",
    "estadof = np.dot(H, estadoi)\n",
    "\n",
    "# Probabilidades de obtener 0 y 1\n",
    "p0 = np.abs(estadof[0])**2\n",
    "p1 = np.abs(estadof[1])**2\n",
    "\n",
    "print(\"Estado Final\",estadof)\n",
    "print(\"Probabilidad de obtener 0\",p0)\n",
    "print(\"Probabilidad de obtener 1\",p1)"
   ]
  },
  {
   "cell_type": "markdown",
   "id": "73abf82d-c1c9-4029-b911-bbdd58ab1c0e",
   "metadata": {},
   "source": [
    "#### Solucion 4.3.2"
   ]
  },
  {
   "cell_type": "code",
   "execution_count": 29,
   "id": "a6697478-27e7-4477-9d27-345993fd6b56",
   "metadata": {},
   "outputs": [
    {
     "name": "stdout",
     "output_type": "stream",
     "text": [
      "La probabilidad de obtener el estado final es: 0.4999999999999998\n"
     ]
    }
   ],
   "source": [
    "#4.3.2: Simular la operación de la compuerta CNOT en un sistema\n",
    "# de dos qubits en el estado |00>.\n",
    "\n",
    "# Definir los estados\n",
    "estadoi = np.array([1, 0, 0, 1]) / np.sqrt(2)\n",
    "estadof = np.array([0, 1, 1, 0]) / np.sqrt(2)\n",
    "\n",
    "# Construir el operador de Hadamard haciendo producto tensor\n",
    "# con la matriz identidad\n",
    "hadamard = 1 / np.sqrt(2) * np.array([[1, 1], [1, -1]])\n",
    "operador = np.kron(hadamard, np.identity(2))\n",
    "\n",
    "# Evolucionar el estado inicial\n",
    "estadoe = operador @ estadoi\n",
    "\n",
    "# Calcular la probabilidad de obtener el estado final\n",
    "probabilidad = np.abs(estadof @ estadoe)**2\n",
    "\n",
    "print(\"La probabilidad de obtener el estado final es:\", prob)\n",
    "\n"
   ]
  },
  {
   "cell_type": "markdown",
   "id": "61f49785-e200-42a3-8441-b9711e563f9f",
   "metadata": {},
   "source": [
    "#### Solucion 4.4.1\n"
   ]
  },
  {
   "cell_type": "code",
   "execution_count": null,
   "id": "2f0cc3f6-bb20-4ad3-9dcd-d2fb173804cb",
   "metadata": {},
   "outputs": [],
   "source": []
  },
  {
   "cell_type": "code",
   "execution_count": null,
   "id": "94ca6c53-0f64-45da-8912-74937e106fe3",
   "metadata": {},
   "outputs": [],
   "source": []
  }
 ],
 "metadata": {
  "kernelspec": {
   "display_name": "Python 3 (ipykernel)",
   "language": "python",
   "name": "python3"
  },
  "language_info": {
   "codemirror_mode": {
    "name": "ipython",
    "version": 3
   },
   "file_extension": ".py",
   "mimetype": "text/x-python",
   "name": "python",
   "nbconvert_exporter": "python",
   "pygments_lexer": "ipython3",
   "version": "3.9.13"
  }
 },
 "nbformat": 4,
 "nbformat_minor": 5
}
